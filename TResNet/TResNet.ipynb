{
  "nbformat": 4,
  "nbformat_minor": 0,
  "metadata": {
    "colab": {
      "name": "TResNet.ipynb",
      "provenance": [],
      "collapsed_sections": []
    },
    "kernelspec": {
      "name": "python3",
      "display_name": "Python 3"
    },
    "language_info": {
      "name": "python"
    }
  },
  "cells": [
    {
      "cell_type": "code",
      "execution_count": null,
      "metadata": {
        "id": "N5PV-BHzLu5_"
      },
      "outputs": [],
      "source": [
        "# github of TResNet: \"https://github.com/Alibaba-MIIL/TResNet\"\n",
        "from src_files.models.tresnet.tresnet import TResnetL\n",
        "\n",
        "from torch.utils.data import DataLoader\n",
        "import torch.optim as optim\n",
        "import torch.nn as nn\n",
        "import torch\n",
        "from google.colab import drive"
      ]
    },
    {
      "cell_type": "code",
      "source": [
        "import torchvision\n",
        "import torchvision.transforms as transforms\n",
        "n = 1\n",
        "for i in [\"/content/drive/MyDrive/CS172B Final Project/Data_after_train_test_val_split/test\", \"/content/drive/MyDrive/CS172B Final Project/Data_after_train_test_val_split/train\", \"/content/drive/MyDrive/CS172B Final Project/Data_after_train_test_val_split/val\"]:\n",
        "  exec(f\"dataset{n} = torchvision.datasets.ImageFolder(i, transforms.Compose([\\\n",
        "    transforms.Resize(256),\\\n",
        "    transforms.CenterCrop(224),\\\n",
        "    transforms.ToTensor(),\\\n",
        "    transforms.Normalize(mean=[0.485, 0.456, 0.406], std=[0.229, 0.224, 0.225]),\\\n",
        "]),is_valid_file = lambda x: '.jpg' in x)\")\n",
        "  n+=1\n",
        "\n",
        "test_data = dataset1\n",
        "train_data = dataset2\n",
        "val_data = dataset3"
      ],
      "metadata": {
        "id": "PVJ42ol4MF-V"
      },
      "execution_count": null,
      "outputs": []
    },
    {
      "cell_type": "code",
      "source": [
        "device = torch.device(\"cuda:0\" if torch.cuda.is_available() else \"cpu\")\n",
        "# device = 'cpu'\n",
        "print(device)"
      ],
      "metadata": {
        "id": "wbOZ7Y59MUmj"
      },
      "execution_count": null,
      "outputs": []
    },
    {
      "cell_type": "code",
      "source": [
        "# print(dataset1.class_to_idx)\n",
        "# print(dataset2.class_to_idx)\n",
        "\n",
        "temp = {}\n",
        "for i,j in enumerate(sorted(list(set(dataset1.class_to_idx.keys()).union(set(dataset2.class_to_idx.keys())).union(set(dataset3.class_to_idx.keys()))))):\n",
        "    temp[j] = i\n",
        "temp\n",
        "test_data.class_to_idx=temp\n",
        "train_data.class_to_idx=temp\n",
        "val_data.class_to_idx=temp"
      ],
      "metadata": {
        "id": "iGATjO81MVxt"
      },
      "execution_count": null,
      "outputs": []
    },
    {
      "cell_type": "code",
      "source": [
        "epoch = 200\n",
        "num_classes = len(temp)\n",
        "batch_size = 32\n",
        "learning_rate = 0.002\n",
        "test_num = int((11569//batch_size + 1) * 0.2)\n",
        "train_num = (11569//batch_size + 1) - test_num"
      ],
      "metadata": {
        "id": "d37tMaQ0MWwb"
      },
      "execution_count": null,
      "outputs": []
    },
    {
      "cell_type": "code",
      "source": [
        "test_loader = DataLoader(test_data, batch_size = batch_size, shuffle = True)\n",
        "train_loader = DataLoader(train_data, batch_size = batch_size, shuffle = True)\n",
        "val_loader = DataLoader(val_data, batch_size = batch_size, shuffle = True)"
      ],
      "metadata": {
        "id": "R863DQYhMXwL"
      },
      "execution_count": null,
      "outputs": []
    },
    {
      "cell_type": "code",
      "source": [
        "model = TResnetM({'num_classes':len(temp)}).to(device)"
      ],
      "metadata": {
        "id": "mPfEzL8fMYns"
      },
      "execution_count": null,
      "outputs": []
    },
    {
      "cell_type": "code",
      "source": [
        "# Train the model and print the loss per epoch (5 points)\n",
        "info_list = []\n",
        "val_correct = []\n",
        "test_correct = []\n",
        "total_correct = 0\n",
        "for j in range(epoch):\n",
        "    train_correct = 0\n",
        "\n",
        "    for i, (images, labels) in enumerate(train_loader):\n",
        "        images = images.to(device)\n",
        "        labels = labels.to(device)\n",
        "        optimizer.zero_grad()\n",
        "        pred = model(images)\n",
        "        loss = criterion(pred, labels)\n",
        "        loss.backward()\n",
        "        optimizer.step()\n",
        "\n",
        "        predictions = pred.max(dim=1).indices\n",
        "        train_correct += torch.eq(predictions, labels).sum().item()\n",
        "        total_correct += torch.eq(predictions, labels).sum().item()\n",
        "        info_list.append((train_correct, loss))\n",
        "\n",
        "    \n",
        "    val_total_correct = 0\n",
        "    with torch.no_grad():\n",
        "        for i, (images, labels) in enumerate(val_loader):\n",
        "            images = images.to(device)\n",
        "            labels = labels.to(device)\n",
        "            optimizer.zero_grad()\n",
        "            pred = model( images )\n",
        "            loss = criterion(pred, labels)\n",
        "            loss.backward()\n",
        "            optimizer.step()\n",
        "                \n",
        "            predictions = pred.max(dim=1).indices\n",
        "            correct = torch.eq(predictions, labels).sum().item()\n",
        "            val_total_correct += correct\n",
        "            val_correct.append((j,i,correct))\n",
        "            torch.cuda.empty_cache()\n",
        "\n",
        "    accuracy = train_correct / (len(train_loader) *batch_size)\n",
        "    \n",
        "    print(f'epoch: {j+1}', \"Training Accuracy: \", accuracy, \"Loss: \", loss.item(),\n",
        "    f\"val correct: {val_total_correct}\")\n"
      ],
      "metadata": {
        "id": "icxvi6v3MaVb"
      },
      "execution_count": null,
      "outputs": []
    },
    {
      "cell_type": "code",
      "source": [
        "torch.save(model.state_dict(), './TResNet_saved')"
      ],
      "metadata": {
        "id": "qZWNsf5cMdgU"
      },
      "execution_count": null,
      "outputs": []
    },
    {
      "cell_type": "markdown",
      "source": [
        "  We are using the validation data as the testing data instead of original testing data. The reason can be found in the TResNet part of the final report"
      ],
      "metadata": {
        "id": "ICxbz36AMhA8"
      }
    }
  ]
}